{
 "cells": [
  {
   "cell_type": "markdown",
   "id": "66159f4d-295d-4868-94d0-5be08735ed66",
   "metadata": {},
   "source": [
    "# Music Transformer: Training Commands\n",
    "A notebook containing useful commands to pull music-transformer from Github and train. "
   ]
  },
  {
   "cell_type": "code",
   "execution_count": null,
   "id": "28a2f890-9906-4314-a189-dcea090c869f",
   "metadata": {},
   "outputs": [],
   "source": [
    "# Clone project from Github (one-time)\n",
    "%cd /\n",
    "!git clone --single-branch --depth 1 https://github.com/AndyyyYuuu/music-transformer.git\n",
    "%cd music-transformer"
   ]
  },
  {
   "cell_type": "code",
   "execution_count": null,
   "id": "b770c864-e629-4017-aa5f-b17982d75428",
   "metadata": {},
   "outputs": [],
   "source": [
    "# Pull changes from Github\n",
    "%cd /\n",
    "!git pull --single-branch --depth 1 https://github.com/AndyyyYuuu/music-transformer.git\n",
    "%cd music-transformer"
   ]
  },
  {
   "cell_type": "code",
   "execution_count": null,
   "id": "9d10c907-a15a-4db4-ae27-5e56d7a9d1eb",
   "metadata": {
    "scrolled": true
   },
   "outputs": [],
   "source": [
    "# Dependencies\n",
    "!pip install torch\n",
    "!pip install tqdm\n",
    "!pip install numpy\n",
    "!pip install pretty_midi"
   ]
  },
  {
   "cell_type": "code",
   "execution_count": null,
   "id": "6a7e9db7-7acc-44ed-8dcd-d66a6dd62f2a",
   "metadata": {},
   "outputs": [],
   "source": [
    "# Weights & Biases Setup\n",
    "!pip install wandb\n",
    "!wandb login"
   ]
  },
  {
   "cell_type": "code",
   "execution_count": null,
   "id": "f5387215-c11c-41a4-a9fb-6650325b71b2",
   "metadata": {},
   "outputs": [],
   "source": [
    "%run train.py 8 data"
   ]
  },
  {
   "cell_type": "code",
   "execution_count": null,
   "id": "d6e29d5b-800b-4789-81de-cbf786c1c7f0",
   "metadata": {},
   "outputs": [],
   "source": [
    "%run compose.py"
   ]
  }
 ],
 "metadata": {
  "kernelspec": {
   "display_name": "Python 3 (ipykernel)",
   "language": "python",
   "name": "python3"
  },
  "language_info": {
   "codemirror_mode": {
    "name": "ipython",
    "version": 3
   },
   "file_extension": ".py",
   "mimetype": "text/x-python",
   "name": "python",
   "nbconvert_exporter": "python",
   "pygments_lexer": "ipython3",
   "version": "3.11.1"
  }
 },
 "nbformat": 4,
 "nbformat_minor": 5
}
